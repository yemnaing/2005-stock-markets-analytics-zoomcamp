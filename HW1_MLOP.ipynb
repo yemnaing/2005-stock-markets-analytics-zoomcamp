{
  "nbformat": 4,
  "nbformat_minor": 0,
  "metadata": {
    "colab": {
      "provenance": [],
      "authorship_tag": "ABX9TyM7uh5gDBrKD7vFmDQ85Svd",
      "include_colab_link": true
    },
    "kernelspec": {
      "name": "python3",
      "display_name": "Python 3"
    },
    "language_info": {
      "name": "python"
    }
  },
  "cells": [
    {
      "cell_type": "markdown",
      "metadata": {
        "id": "view-in-github",
        "colab_type": "text"
      },
      "source": [
        "<a href=\"https://colab.research.google.com/github/yemnaing/2005-stock-markets-analytics-zoomcamp/blob/main/HW1_MLOP.ipynb\" target=\"_parent\"><img src=\"https://colab.research.google.com/assets/colab-badge.svg\" alt=\"Open In Colab\"/></a>"
      ]
    },
    {
      "cell_type": "code",
      "execution_count": 1,
      "metadata": {
        "colab": {
          "base_uri": "https://localhost:8080/"
        },
        "id": "B4IYzJUikRQW",
        "outputId": "6677c907-99a3-46e8-d377-98a3a7c7a9f4"
      },
      "outputs": [
        {
          "output_type": "stream",
          "name": "stdout",
          "text": [
            "--2025-05-21 15:58:32--  https://d37ci6vzurychx.cloudfront.net/trip-data/yellow_tripdata_2023-01.parquet\n",
            "Resolving d37ci6vzurychx.cloudfront.net (d37ci6vzurychx.cloudfront.net)... 3.163.157.7, 3.163.157.72, 3.163.157.133, ...\n",
            "Connecting to d37ci6vzurychx.cloudfront.net (d37ci6vzurychx.cloudfront.net)|3.163.157.7|:443... connected.\n",
            "HTTP request sent, awaiting response... 200 OK\n",
            "Length: 47673370 (45M) [application/x-www-form-urlencoded]\n",
            "Saving to: ‘yellow_tripdata_2023-01.parquet’\n",
            "\n",
            "yellow_tripdata_202 100%[===================>]  45.46M  16.2MB/s    in 2.8s    \n",
            "\n",
            "2025-05-21 15:58:36 (16.2 MB/s) - ‘yellow_tripdata_2023-01.parquet’ saved [47673370/47673370]\n",
            "\n",
            "Number of columns: 19\n"
          ]
        },
        {
          "output_type": "execute_result",
          "data": {
            "text/plain": [
              "Index(['VendorID', 'tpep_pickup_datetime', 'tpep_dropoff_datetime',\n",
              "       'passenger_count', 'trip_distance', 'RatecodeID', 'store_and_fwd_flag',\n",
              "       'PULocationID', 'DOLocationID', 'payment_type', 'fare_amount', 'extra',\n",
              "       'mta_tax', 'tip_amount', 'tolls_amount', 'improvement_surcharge',\n",
              "       'total_amount', 'congestion_surcharge', 'airport_fee'],\n",
              "      dtype='object')"
            ]
          },
          "metadata": {},
          "execution_count": 1
        }
      ],
      "source": [
        "# Install if needed (optional, Colab already has pandas and pyarrow)\n",
        "# !pip install pandas pyarrow\n",
        "\n",
        "import pandas as pd\n",
        "\n",
        "# Download the data\n",
        "!wget https://d37ci6vzurychx.cloudfront.net/trip-data/yellow_tripdata_2023-01.parquet\n",
        "\n",
        "# Read the Parquet file\n",
        "df = pd.read_parquet(\"yellow_tripdata_2023-01.parquet\")\n",
        "\n",
        "# Show number of columns\n",
        "print(\"Number of columns:\", len(df.columns))\n",
        "\n",
        "# Optionally display column names\n",
        "df.columns"
      ]
    },
    {
      "cell_type": "code",
      "source": [
        "import pandas as pd\n",
        "\n",
        "# Load the data again if not already loaded\n",
        "df = pd.read_parquet(\"yellow_tripdata_2023-01.parquet\")\n",
        "\n",
        "# Convert pickup and dropoff times to datetime\n",
        "df['tpep_pickup_datetime'] = pd.to_datetime(df['tpep_pickup_datetime'])\n",
        "df['tpep_dropoff_datetime'] = pd.to_datetime(df['tpep_dropoff_datetime'])\n",
        "\n",
        "# Compute duration in minutes\n",
        "df['duration'] = (df['tpep_dropoff_datetime'] - df['tpep_pickup_datetime']).dt.total_seconds() / 60\n",
        "\n",
        "# Show standard deviation\n",
        "print(\"Standard deviation (in minutes):\", round(df['duration'].std(), 2))"
      ],
      "metadata": {
        "colab": {
          "base_uri": "https://localhost:8080/"
        },
        "id": "Vjw6eIO7kTDf",
        "outputId": "af60951c-90bd-416d-9966-df4f4fda723f"
      },
      "execution_count": 2,
      "outputs": [
        {
          "output_type": "stream",
          "name": "stdout",
          "text": [
            "Standard deviation (in minutes): 42.59\n"
          ]
        }
      ]
    },
    {
      "cell_type": "code",
      "source": [
        "# Filter durations between 1 and 60 minutes\n",
        "filtered_df = df[(df['duration'] >= 1) & (df['duration'] <= 60)]\n",
        "\n",
        "# Calculate fraction of records remaining\n",
        "fraction = len(filtered_df) / len(df)\n",
        "print(f\"Fraction of records remaining: {fraction:.2%}\")\n"
      ],
      "metadata": {
        "colab": {
          "base_uri": "https://localhost:8080/"
        },
        "id": "YRQqtnNwkduo",
        "outputId": "00881944-24a7-4f34-cd2b-57d3db2c503b"
      },
      "execution_count": 3,
      "outputs": [
        {
          "output_type": "stream",
          "name": "stdout",
          "text": [
            "Fraction of records remaining: 98.12%\n"
          ]
        }
      ]
    },
    {
      "cell_type": "code",
      "source": [
        "from sklearn.feature_extraction import DictVectorizer\n",
        "\n",
        "# Select only the pickup and dropoff location IDs, convert to string\n",
        "df_filtered = filtered_df.copy()\n",
        "df_filtered['PULocationID'] = df_filtered['PULocationID'].astype(str)\n",
        "df_filtered['DOLocationID'] = df_filtered['DOLocationID'].astype(str)\n",
        "\n",
        "# Convert to list of dicts\n",
        "dicts = df_filtered[['PULocationID', 'DOLocationID']].to_dict(orient='records')\n",
        "\n",
        "# Initialize DictVectorizer\n",
        "dv = DictVectorizer()\n",
        "\n",
        "# Fit and transform\n",
        "X = dv.fit_transform(dicts)\n",
        "\n",
        "# Check the number of columns (features)\n",
        "print(\"Number of columns (features):\", X.shape[1])\n"
      ],
      "metadata": {
        "colab": {
          "base_uri": "https://localhost:8080/"
        },
        "id": "1KD2yf-Qk4OK",
        "outputId": "f1b27601-14e0-4209-87c6-fe4dbe9e78ef"
      },
      "execution_count": 4,
      "outputs": [
        {
          "output_type": "stream",
          "name": "stdout",
          "text": [
            "Number of columns (features): 515\n"
          ]
        }
      ]
    },
    {
      "cell_type": "code",
      "source": [
        "!pip install -U scikit-learn\n"
      ],
      "metadata": {
        "colab": {
          "base_uri": "https://localhost:8080/"
        },
        "id": "7JQ72bAjl0iW",
        "outputId": "68767386-17e8-4e51-ade1-d2dd9096af82"
      },
      "execution_count": 6,
      "outputs": [
        {
          "output_type": "stream",
          "name": "stdout",
          "text": [
            "Requirement already satisfied: scikit-learn in /usr/local/lib/python3.11/dist-packages (1.6.1)\n",
            "Requirement already satisfied: numpy>=1.19.5 in /usr/local/lib/python3.11/dist-packages (from scikit-learn) (2.0.2)\n",
            "Requirement already satisfied: scipy>=1.6.0 in /usr/local/lib/python3.11/dist-packages (from scikit-learn) (1.15.3)\n",
            "Requirement already satisfied: joblib>=1.2.0 in /usr/local/lib/python3.11/dist-packages (from scikit-learn) (1.5.0)\n",
            "Requirement already satisfied: threadpoolctl>=3.1.0 in /usr/local/lib/python3.11/dist-packages (from scikit-learn) (3.6.0)\n"
          ]
        }
      ]
    },
    {
      "cell_type": "code",
      "source": [
        "from sklearn.linear_model import LinearRegression\n",
        "from sklearn.metrics import mean_squared_error\n",
        "import numpy as np\n",
        "from math import sqrt\n",
        "\n",
        "# Target variable\n",
        "y = df_filtered['duration'].values\n",
        "\n",
        "# Train linear regression model\n",
        "lr = LinearRegression()\n",
        "lr.fit(X, y)\n",
        "\n",
        "# Predict on training data\n",
        "y_pred = lr.predict(X)\n",
        "\n",
        "# Calculate RMSE\n",
        "# rmse = mean_squared_error(y, y_pred, squared=False)\n",
        "mse = mean_squared_error(y, y_pred)\n",
        "rmse = sqrt(mse)\n",
        "print(\"RMSE on training data:\", round(rmse, 2))\n"
      ],
      "metadata": {
        "colab": {
          "base_uri": "https://localhost:8080/"
        },
        "id": "s3T16YPmlC4D",
        "outputId": "903c12d2-29dd-4f83-d6cf-42c4416d7bfd"
      },
      "execution_count": 7,
      "outputs": [
        {
          "output_type": "stream",
          "name": "stdout",
          "text": [
            "RMSE on training data: 7.65\n"
          ]
        }
      ]
    },
    {
      "cell_type": "code",
      "source": [
        "# Download February data\n",
        "!wget https://d37ci6vzurychx.cloudfront.net/trip-data/yellow_tripdata_2023-02.parquet\n",
        "\n",
        "# Load February data\n",
        "df_val = pd.read_parquet(\"yellow_tripdata_2023-02.parquet\")\n",
        "\n",
        "# Convert to datetime\n",
        "df_val['tpep_pickup_datetime'] = pd.to_datetime(df_val['tpep_pickup_datetime'])\n",
        "df_val['tpep_dropoff_datetime'] = pd.to_datetime(df_val['tpep_dropoff_datetime'])\n",
        "\n",
        "# Compute duration in minutes\n",
        "df_val['duration'] = (df_val['tpep_dropoff_datetime'] - df_val['tpep_pickup_datetime']).dt.total_seconds() / 60\n",
        "\n",
        "# Filter duration between 1 and 60\n",
        "df_val_filtered = df_val[(df_val['duration'] >= 1) & (df_val['duration'] <= 60)].copy()\n",
        "\n",
        "# Convert pickup and dropoff IDs to strings\n",
        "df_val_filtered['PULocationID'] = df_val_filtered['PULocationID'].astype(str)\n",
        "df_val_filtered['DOLocationID'] = df_val_filtered['DOLocationID'].astype(str)\n",
        "\n",
        "# Create dicts for vectorizer\n",
        "dicts_val = df_val_filtered[['PULocationID', 'DOLocationID']].to_dict(orient='records')\n",
        "\n",
        "# Transform using January's DictVectorizer (dv)\n",
        "X_val = dv.transform(dicts_val)\n",
        "\n",
        "# Target variable\n",
        "y_val = df_val_filtered['duration'].values\n",
        "\n",
        "# Predict on validation data\n",
        "y_val_pred = lr.predict(X_val)\n",
        "\n",
        "# Calculate RMSE\n",
        "#rmse_val = mean_squared_error(y_val, y_val_pred, squared=False)\n",
        "mse = mean_squared_error(y_val, y_val_pred)\n",
        "rmse_val = sqrt(mse)\n",
        "print(\"RMSE on validation data:\", round(rmse_val, 2))\n"
      ],
      "metadata": {
        "colab": {
          "base_uri": "https://localhost:8080/"
        },
        "id": "Q3LzRQmNlzD1",
        "outputId": "b79a4b21-28e3-4ff7-8aec-6a962bc20de9"
      },
      "execution_count": 10,
      "outputs": [
        {
          "output_type": "stream",
          "name": "stdout",
          "text": [
            "--2025-05-21 16:09:52--  https://d37ci6vzurychx.cloudfront.net/trip-data/yellow_tripdata_2023-02.parquet\n",
            "Resolving d37ci6vzurychx.cloudfront.net (d37ci6vzurychx.cloudfront.net)... 3.163.157.7, 3.163.157.133, 3.163.157.96, ...\n",
            "Connecting to d37ci6vzurychx.cloudfront.net (d37ci6vzurychx.cloudfront.net)|3.163.157.7|:443... connected.\n",
            "HTTP request sent, awaiting response... 200 OK\n",
            "Length: 47748012 (46M) [application/x-www-form-urlencoded]\n",
            "Saving to: ‘yellow_tripdata_2023-02.parquet.2’\n",
            "\n",
            "yellow_tripdata_202 100%[===================>]  45.54M  19.7MB/s    in 2.3s    \n",
            "\n",
            "2025-05-21 16:09:55 (19.7 MB/s) - ‘yellow_tripdata_2023-02.parquet.2’ saved [47748012/47748012]\n",
            "\n",
            "RMSE on validation data: 7.81\n"
          ]
        }
      ]
    }
  ]
}