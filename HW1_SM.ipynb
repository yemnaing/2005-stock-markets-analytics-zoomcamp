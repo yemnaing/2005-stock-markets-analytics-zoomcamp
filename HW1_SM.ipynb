{
  "nbformat": 4,
  "nbformat_minor": 0,
  "metadata": {
    "colab": {
      "provenance": [],
      "authorship_tag": "ABX9TyMHUCWXwrjWzwvyETZBdZBc",
      "include_colab_link": true
    },
    "kernelspec": {
      "name": "python3",
      "display_name": "Python 3"
    },
    "language_info": {
      "name": "python"
    }
  },
  "cells": [
    {
      "cell_type": "markdown",
      "metadata": {
        "id": "view-in-github",
        "colab_type": "text"
      },
      "source": [
        "<a href=\"https://colab.research.google.com/github/yemnaing/2005-stock-markets-analytics-zoomcamp/blob/main/HW1_SM.ipynb\" target=\"_parent\"><img src=\"https://colab.research.google.com/assets/colab-badge.svg\" alt=\"Open In Colab\"/></a>"
      ]
    },
    {
      "cell_type": "code",
      "execution_count": 1,
      "metadata": {
        "colab": {
          "base_uri": "https://localhost:8080/"
        },
        "id": "7fM03RYlot41",
        "outputId": "e1fa602d-56a8-4872-c478-f6fde811d428"
      },
      "outputs": [
        {
          "output_type": "stream",
          "name": "stdout",
          "text": [
            "Year with the highest number of additions: 2017 (23 companies added)\n",
            "Number of current S&P 500 stocks in the index for more than 20 years: 226\n"
          ]
        }
      ],
      "source": [
        "# Import libraries\n",
        "import pandas as pd\n",
        "\n",
        "# Load the Wikipedia table of S&P 500 companies\n",
        "url = \"https://en.wikipedia.org/wiki/List_of_S%26P_500_companies\"\n",
        "tables = pd.read_html(url)\n",
        "\n",
        "# The first table contains the list of S&P 500 companies\n",
        "sp500_df = tables[0]\n",
        "\n",
        "# Select relevant columns\n",
        "df = sp500_df[['Symbol', 'Security', 'Date added']].copy()\n",
        "\n",
        "# Convert 'Date added' to datetime\n",
        "df['Date added'] = pd.to_datetime(df['Date added'], errors='coerce')\n",
        "\n",
        "# Extract the year from the 'Date added'\n",
        "df['Year added'] = df['Date added'].dt.year\n",
        "\n",
        "# Count how many stocks were added per year, excluding 1957\n",
        "year_counts = df[df['Year added'] != 1957].groupby('Year added').size()\n",
        "\n",
        "# Find the year with the highest number of additions (most recent if multiple)\n",
        "max_additions = year_counts.max()\n",
        "years_with_max = year_counts[year_counts == max_additions].index\n",
        "most_recent_year = years_with_max.max()\n",
        "\n",
        "print(f\"Year with the highest number of additions: {most_recent_year} ({max_additions} companies added)\")\n",
        "\n",
        "# Calculate how many stocks have been in the index for more than 20 years\n",
        "# (Added before or in 2005, assuming current year is 2025)\n",
        "num_old_stocks = df[df['Year added'] <= 2005].shape[0]\n",
        "print(f\"Number of current S&P 500 stocks in the index for more than 20 years: {num_old_stocks}\")\n"
      ]
    },
    {
      "cell_type": "code",
      "source": [
        "import yfinance as yf\n",
        "import pandas as pd\n",
        "\n",
        "tickers = {\n",
        "    'S&P 500 (US)': '^GSPC',\n",
        "    'Shanghai Composite (China)': '000001.SS',\n",
        "    'HANG SENG INDEX (Hong Kong)': '^HSI',\n",
        "    'S&P/ASX 200 (Australia)': '^AXJO',\n",
        "    'Nifty 50 (India)': '^NSEI',\n",
        "    'S&P/TSX Composite (Canada)': '^GSPTSE',\n",
        "    'DAX (Germany)': '^GDAXI',\n",
        "    'FTSE 100 (UK)': '^FTSE',\n",
        "    'Nikkei 225 (Japan)': '^N225',\n",
        "    'IPC Mexico': '^MXX',\n",
        "    'Ibovespa (Brazil)': '^BVSP'\n",
        "}\n",
        "\n",
        "start_date = '2025-01-01'\n",
        "end_date = '2025-05-01'\n",
        "\n",
        "returns = {}\n",
        "\n",
        "for name, ticker in tickers.items():\n",
        "    data = yf.download(ticker, start=start_date, end=end_date, progress=False)\n",
        "    if data.empty:\n",
        "        print(f\"No data for {name} ({ticker})\")\n",
        "        continue\n",
        "    start_price = data['Close'].iloc[0]\n",
        "    end_price = data['Close'].iloc[-1]\n",
        "    ytd_return = (end_price - start_price) / start_price\n",
        "    returns[name] = ytd_return\n",
        "\n",
        "returns_df = pd.DataFrame.from_dict(returns, orient='index', columns=['YTD Return'])\n",
        "\n",
        "us_return = returns.get('S&P 500 (US)', None)\n",
        "\n",
        "# Debug print\n",
        "print(f\"Type of us_return: {type(us_return)}\")\n",
        "print(f\"Value of us_return: {us_return}\")\n",
        "\n",
        "if us_return is not None:\n",
        "    # Defensive: make sure scalar (if it is a Series, get the first element)\n",
        "    if isinstance(us_return, pd.Series):\n",
        "        us_return = us_return.iloc[0]\n",
        "\n",
        "    better_than_us = returns_df[returns_df['YTD Return'] > us_return]\n",
        "    num_better = better_than_us.shape[0]\n",
        "else:\n",
        "    num_better = 0\n",
        "    print(\"US S&P 500 return not found.\")\n",
        "\n",
        "print(f\"Number of indexes with better YTD return than US S&P 500: {num_better} out of {len(tickers)}\")\n",
        "print(returns_df.sort_values(by='YTD Return', ascending=False))\n"
      ],
      "metadata": {
        "colab": {
          "base_uri": "https://localhost:8080/"
        },
        "id": "vppfCee8pWCp",
        "outputId": "660c7a82-613f-4fda-d762-c183a9c4a1e3"
      },
      "execution_count": 6,
      "outputs": [
        {
          "output_type": "stream",
          "name": "stdout",
          "text": [
            "Type of us_return: <class 'pandas.core.series.Series'>\n",
            "Value of us_return: Ticker\n",
            "^GSPC   -0.051033\n",
            "dtype: float64\n",
            "Number of indexes with better YTD return than US S&P 500: 0 out of 11\n",
            "Empty DataFrame\n",
            "Columns: [YTD Return]\n",
            "Index: []\n"
          ]
        }
      ]
    },
    {
      "cell_type": "code",
      "source": [
        "import yfinance as yf\n",
        "import pandas as pd\n",
        "\n",
        "ticker = '^GSPC'\n",
        "\n",
        "# Use auto_adjust=True, then 'Close' is adjusted close price\n",
        "data = yf.download(ticker, start='1950-01-01', progress=False, auto_adjust=True)\n",
        "\n",
        "prices = data['Close']\n",
        "\n",
        "all_time_highs = prices[prices.cummax() == prices].index\n",
        "\n",
        "corrections = []\n",
        "\n",
        "for i in range(len(all_time_highs) - 1):\n",
        "    start = all_time_highs[i]\n",
        "    end = all_time_highs[i + 1]\n",
        "    period = prices.loc[start:end]\n",
        "    low_price = period.min()\n",
        "    high_price = prices.loc[start]\n",
        "    drawdown_pct = (high_price - low_price) / high_price * 100\n",
        "    duration = (end - start).days\n",
        "    if drawdown_pct >= 5:\n",
        "        corrections.append({'start': start, 'end': end, 'drawdown_pct': drawdown_pct, 'duration_days': duration})\n",
        "\n",
        "corrections_df = pd.DataFrame(corrections)\n",
        "\n",
        "percentiles = corrections_df['duration_days'].quantile([0.25, 0.5, 0.75])\n",
        "\n",
        "print(\"Market corrections durations (days) percentiles:\")\n",
        "print(f\"25th percentile: {percentiles.loc[0.25]:.0f}\")\n",
        "print(f\"Median (50th percentile): {percentiles.loc[0.5]:.0f}\")\n",
        "print(f\"75th percentile: {percentiles.loc[0.75]:.0f}\")\n"
      ],
      "metadata": {
        "colab": {
          "base_uri": "https://localhost:8080/",
          "height": 332
        },
        "id": "yzLc9vmsrtU7",
        "outputId": "cf2cf572-f20d-4d82-be8e-1ea9e3b42d92"
      },
      "execution_count": 8,
      "outputs": [
        {
          "output_type": "error",
          "ename": "ValueError",
          "evalue": "The truth value of a Series is ambiguous. Use a.empty, a.bool(), a.item(), a.any() or a.all().",
          "traceback": [
            "\u001b[0;31m---------------------------------------------------------------------------\u001b[0m",
            "\u001b[0;31mValueError\u001b[0m                                Traceback (most recent call last)",
            "\u001b[0;32m<ipython-input-8-cbd29741f2f8>\u001b[0m in \u001b[0;36m<cell line: 0>\u001b[0;34m()\u001b[0m\n\u001b[1;32m     21\u001b[0m     \u001b[0mdrawdown_pct\u001b[0m \u001b[0;34m=\u001b[0m \u001b[0;34m(\u001b[0m\u001b[0mhigh_price\u001b[0m \u001b[0;34m-\u001b[0m \u001b[0mlow_price\u001b[0m\u001b[0;34m)\u001b[0m \u001b[0;34m/\u001b[0m \u001b[0mhigh_price\u001b[0m \u001b[0;34m*\u001b[0m \u001b[0;36m100\u001b[0m\u001b[0;34m\u001b[0m\u001b[0;34m\u001b[0m\u001b[0m\n\u001b[1;32m     22\u001b[0m     \u001b[0mduration\u001b[0m \u001b[0;34m=\u001b[0m \u001b[0;34m(\u001b[0m\u001b[0mend\u001b[0m \u001b[0;34m-\u001b[0m \u001b[0mstart\u001b[0m\u001b[0;34m)\u001b[0m\u001b[0;34m.\u001b[0m\u001b[0mdays\u001b[0m\u001b[0;34m\u001b[0m\u001b[0;34m\u001b[0m\u001b[0m\n\u001b[0;32m---> 23\u001b[0;31m     \u001b[0;32mif\u001b[0m \u001b[0mdrawdown_pct\u001b[0m \u001b[0;34m>=\u001b[0m \u001b[0;36m5\u001b[0m\u001b[0;34m:\u001b[0m\u001b[0;34m\u001b[0m\u001b[0;34m\u001b[0m\u001b[0m\n\u001b[0m\u001b[1;32m     24\u001b[0m         \u001b[0mcorrections\u001b[0m\u001b[0;34m.\u001b[0m\u001b[0mappend\u001b[0m\u001b[0;34m(\u001b[0m\u001b[0;34m{\u001b[0m\u001b[0;34m'start'\u001b[0m\u001b[0;34m:\u001b[0m \u001b[0mstart\u001b[0m\u001b[0;34m,\u001b[0m \u001b[0;34m'end'\u001b[0m\u001b[0;34m:\u001b[0m \u001b[0mend\u001b[0m\u001b[0;34m,\u001b[0m \u001b[0;34m'drawdown_pct'\u001b[0m\u001b[0;34m:\u001b[0m \u001b[0mdrawdown_pct\u001b[0m\u001b[0;34m,\u001b[0m \u001b[0;34m'duration_days'\u001b[0m\u001b[0;34m:\u001b[0m \u001b[0mduration\u001b[0m\u001b[0;34m}\u001b[0m\u001b[0;34m)\u001b[0m\u001b[0;34m\u001b[0m\u001b[0;34m\u001b[0m\u001b[0m\n\u001b[1;32m     25\u001b[0m \u001b[0;34m\u001b[0m\u001b[0m\n",
            "\u001b[0;32m/usr/local/lib/python3.11/dist-packages/pandas/core/generic.py\u001b[0m in \u001b[0;36m__nonzero__\u001b[0;34m(self)\u001b[0m\n\u001b[1;32m   1575\u001b[0m     \u001b[0;34m@\u001b[0m\u001b[0mfinal\u001b[0m\u001b[0;34m\u001b[0m\u001b[0;34m\u001b[0m\u001b[0m\n\u001b[1;32m   1576\u001b[0m     \u001b[0;32mdef\u001b[0m \u001b[0m__nonzero__\u001b[0m\u001b[0;34m(\u001b[0m\u001b[0mself\u001b[0m\u001b[0;34m)\u001b[0m \u001b[0;34m->\u001b[0m \u001b[0mNoReturn\u001b[0m\u001b[0;34m:\u001b[0m\u001b[0;34m\u001b[0m\u001b[0;34m\u001b[0m\u001b[0m\n\u001b[0;32m-> 1577\u001b[0;31m         raise ValueError(\n\u001b[0m\u001b[1;32m   1578\u001b[0m             \u001b[0;34mf\"The truth value of a {type(self).__name__} is ambiguous. \"\u001b[0m\u001b[0;34m\u001b[0m\u001b[0;34m\u001b[0m\u001b[0m\n\u001b[1;32m   1579\u001b[0m             \u001b[0;34m\"Use a.empty, a.bool(), a.item(), a.any() or a.all().\"\u001b[0m\u001b[0;34m\u001b[0m\u001b[0;34m\u001b[0m\u001b[0m\n",
            "\u001b[0;31mValueError\u001b[0m: The truth value of a Series is ambiguous. Use a.empty, a.bool(), a.item(), a.any() or a.all()."
          ]
        }
      ]
    }
  ]
}